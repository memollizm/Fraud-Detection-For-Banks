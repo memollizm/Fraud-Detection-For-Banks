{
 "cells": [
  {
   "cell_type": "markdown",
   "id": "48869e15-96a0-4347-8a45-46f2a3d77dd4",
   "metadata": {},
   "source": [
    "### Kütüphanelerin içeri aktarılması"
   ]
  },
  {
   "cell_type": "code",
   "execution_count": 101,
   "id": "980a2185-702f-4ce6-bf8d-b7ba3e7742f1",
   "metadata": {},
   "outputs": [],
   "source": [
    "import numpy as np\n",
    "import matplotlib.pyplot as plt\n",
    "import pandas as pd"
   ]
  },
  {
   "cell_type": "markdown",
   "id": "337ddc47-6308-44dc-8095-7ccac4d5aa29",
   "metadata": {},
   "source": [
    "### Veri setinin içeri aktarılması"
   ]
  },
  {
   "cell_type": "code",
   "execution_count": 104,
   "id": "ac180f60-b7cd-447e-9c9b-c3acc0779941",
   "metadata": {},
   "outputs": [],
   "source": [
    "dataset = pd.read_csv('Credit_Card_Applications.csv')"
   ]
  },
  {
   "cell_type": "code",
   "execution_count": 106,
   "id": "e7d725ef-010d-40f1-8904-bfd33e425e2f",
   "metadata": {},
   "outputs": [
    {
     "data": {
      "text/html": [
       "<div>\n",
       "<style scoped>\n",
       "    .dataframe tbody tr th:only-of-type {\n",
       "        vertical-align: middle;\n",
       "    }\n",
       "\n",
       "    .dataframe tbody tr th {\n",
       "        vertical-align: top;\n",
       "    }\n",
       "\n",
       "    .dataframe thead th {\n",
       "        text-align: right;\n",
       "    }\n",
       "</style>\n",
       "<table border=\"1\" class=\"dataframe\">\n",
       "  <thead>\n",
       "    <tr style=\"text-align: right;\">\n",
       "      <th></th>\n",
       "      <th>CustomerID</th>\n",
       "      <th>A1</th>\n",
       "      <th>A2</th>\n",
       "      <th>A3</th>\n",
       "      <th>A4</th>\n",
       "      <th>A5</th>\n",
       "      <th>A6</th>\n",
       "      <th>A7</th>\n",
       "      <th>A8</th>\n",
       "      <th>A9</th>\n",
       "      <th>A10</th>\n",
       "      <th>A11</th>\n",
       "      <th>A12</th>\n",
       "      <th>A13</th>\n",
       "      <th>A14</th>\n",
       "      <th>Class</th>\n",
       "    </tr>\n",
       "  </thead>\n",
       "  <tbody>\n",
       "    <tr>\n",
       "      <th>0</th>\n",
       "      <td>15776156</td>\n",
       "      <td>1</td>\n",
       "      <td>22.08</td>\n",
       "      <td>11.460</td>\n",
       "      <td>2</td>\n",
       "      <td>4</td>\n",
       "      <td>4</td>\n",
       "      <td>1.585</td>\n",
       "      <td>0</td>\n",
       "      <td>0</td>\n",
       "      <td>0</td>\n",
       "      <td>1</td>\n",
       "      <td>2</td>\n",
       "      <td>100</td>\n",
       "      <td>1213</td>\n",
       "      <td>0</td>\n",
       "    </tr>\n",
       "    <tr>\n",
       "      <th>1</th>\n",
       "      <td>15739548</td>\n",
       "      <td>0</td>\n",
       "      <td>22.67</td>\n",
       "      <td>7.000</td>\n",
       "      <td>2</td>\n",
       "      <td>8</td>\n",
       "      <td>4</td>\n",
       "      <td>0.165</td>\n",
       "      <td>0</td>\n",
       "      <td>0</td>\n",
       "      <td>0</td>\n",
       "      <td>0</td>\n",
       "      <td>2</td>\n",
       "      <td>160</td>\n",
       "      <td>1</td>\n",
       "      <td>0</td>\n",
       "    </tr>\n",
       "    <tr>\n",
       "      <th>2</th>\n",
       "      <td>15662854</td>\n",
       "      <td>0</td>\n",
       "      <td>29.58</td>\n",
       "      <td>1.750</td>\n",
       "      <td>1</td>\n",
       "      <td>4</td>\n",
       "      <td>4</td>\n",
       "      <td>1.250</td>\n",
       "      <td>0</td>\n",
       "      <td>0</td>\n",
       "      <td>0</td>\n",
       "      <td>1</td>\n",
       "      <td>2</td>\n",
       "      <td>280</td>\n",
       "      <td>1</td>\n",
       "      <td>0</td>\n",
       "    </tr>\n",
       "    <tr>\n",
       "      <th>3</th>\n",
       "      <td>15687688</td>\n",
       "      <td>0</td>\n",
       "      <td>21.67</td>\n",
       "      <td>11.500</td>\n",
       "      <td>1</td>\n",
       "      <td>5</td>\n",
       "      <td>3</td>\n",
       "      <td>0.000</td>\n",
       "      <td>1</td>\n",
       "      <td>1</td>\n",
       "      <td>11</td>\n",
       "      <td>1</td>\n",
       "      <td>2</td>\n",
       "      <td>0</td>\n",
       "      <td>1</td>\n",
       "      <td>1</td>\n",
       "    </tr>\n",
       "    <tr>\n",
       "      <th>4</th>\n",
       "      <td>15715750</td>\n",
       "      <td>1</td>\n",
       "      <td>20.17</td>\n",
       "      <td>8.170</td>\n",
       "      <td>2</td>\n",
       "      <td>6</td>\n",
       "      <td>4</td>\n",
       "      <td>1.960</td>\n",
       "      <td>1</td>\n",
       "      <td>1</td>\n",
       "      <td>14</td>\n",
       "      <td>0</td>\n",
       "      <td>2</td>\n",
       "      <td>60</td>\n",
       "      <td>159</td>\n",
       "      <td>1</td>\n",
       "    </tr>\n",
       "    <tr>\n",
       "      <th>...</th>\n",
       "      <td>...</td>\n",
       "      <td>...</td>\n",
       "      <td>...</td>\n",
       "      <td>...</td>\n",
       "      <td>...</td>\n",
       "      <td>...</td>\n",
       "      <td>...</td>\n",
       "      <td>...</td>\n",
       "      <td>...</td>\n",
       "      <td>...</td>\n",
       "      <td>...</td>\n",
       "      <td>...</td>\n",
       "      <td>...</td>\n",
       "      <td>...</td>\n",
       "      <td>...</td>\n",
       "      <td>...</td>\n",
       "    </tr>\n",
       "    <tr>\n",
       "      <th>685</th>\n",
       "      <td>15808223</td>\n",
       "      <td>1</td>\n",
       "      <td>31.57</td>\n",
       "      <td>10.500</td>\n",
       "      <td>2</td>\n",
       "      <td>14</td>\n",
       "      <td>4</td>\n",
       "      <td>6.500</td>\n",
       "      <td>1</td>\n",
       "      <td>0</td>\n",
       "      <td>0</td>\n",
       "      <td>0</td>\n",
       "      <td>2</td>\n",
       "      <td>0</td>\n",
       "      <td>1</td>\n",
       "      <td>1</td>\n",
       "    </tr>\n",
       "    <tr>\n",
       "      <th>686</th>\n",
       "      <td>15769980</td>\n",
       "      <td>1</td>\n",
       "      <td>20.67</td>\n",
       "      <td>0.415</td>\n",
       "      <td>2</td>\n",
       "      <td>8</td>\n",
       "      <td>4</td>\n",
       "      <td>0.125</td>\n",
       "      <td>0</td>\n",
       "      <td>0</td>\n",
       "      <td>0</td>\n",
       "      <td>0</td>\n",
       "      <td>2</td>\n",
       "      <td>0</td>\n",
       "      <td>45</td>\n",
       "      <td>0</td>\n",
       "    </tr>\n",
       "    <tr>\n",
       "      <th>687</th>\n",
       "      <td>15675450</td>\n",
       "      <td>0</td>\n",
       "      <td>18.83</td>\n",
       "      <td>9.540</td>\n",
       "      <td>2</td>\n",
       "      <td>6</td>\n",
       "      <td>4</td>\n",
       "      <td>0.085</td>\n",
       "      <td>1</td>\n",
       "      <td>0</td>\n",
       "      <td>0</td>\n",
       "      <td>0</td>\n",
       "      <td>2</td>\n",
       "      <td>100</td>\n",
       "      <td>1</td>\n",
       "      <td>1</td>\n",
       "    </tr>\n",
       "    <tr>\n",
       "      <th>688</th>\n",
       "      <td>15776494</td>\n",
       "      <td>0</td>\n",
       "      <td>27.42</td>\n",
       "      <td>14.500</td>\n",
       "      <td>2</td>\n",
       "      <td>14</td>\n",
       "      <td>8</td>\n",
       "      <td>3.085</td>\n",
       "      <td>1</td>\n",
       "      <td>1</td>\n",
       "      <td>1</td>\n",
       "      <td>0</td>\n",
       "      <td>2</td>\n",
       "      <td>120</td>\n",
       "      <td>12</td>\n",
       "      <td>1</td>\n",
       "    </tr>\n",
       "    <tr>\n",
       "      <th>689</th>\n",
       "      <td>15592412</td>\n",
       "      <td>1</td>\n",
       "      <td>41.00</td>\n",
       "      <td>0.040</td>\n",
       "      <td>2</td>\n",
       "      <td>10</td>\n",
       "      <td>4</td>\n",
       "      <td>0.040</td>\n",
       "      <td>0</td>\n",
       "      <td>1</td>\n",
       "      <td>1</td>\n",
       "      <td>0</td>\n",
       "      <td>1</td>\n",
       "      <td>560</td>\n",
       "      <td>1</td>\n",
       "      <td>1</td>\n",
       "    </tr>\n",
       "  </tbody>\n",
       "</table>\n",
       "<p>690 rows × 16 columns</p>\n",
       "</div>"
      ],
      "text/plain": [
       "     CustomerID  A1     A2      A3  A4  A5  A6     A7  A8  A9  A10  A11  A12  \\\n",
       "0      15776156   1  22.08  11.460   2   4   4  1.585   0   0    0    1    2   \n",
       "1      15739548   0  22.67   7.000   2   8   4  0.165   0   0    0    0    2   \n",
       "2      15662854   0  29.58   1.750   1   4   4  1.250   0   0    0    1    2   \n",
       "3      15687688   0  21.67  11.500   1   5   3  0.000   1   1   11    1    2   \n",
       "4      15715750   1  20.17   8.170   2   6   4  1.960   1   1   14    0    2   \n",
       "..          ...  ..    ...     ...  ..  ..  ..    ...  ..  ..  ...  ...  ...   \n",
       "685    15808223   1  31.57  10.500   2  14   4  6.500   1   0    0    0    2   \n",
       "686    15769980   1  20.67   0.415   2   8   4  0.125   0   0    0    0    2   \n",
       "687    15675450   0  18.83   9.540   2   6   4  0.085   1   0    0    0    2   \n",
       "688    15776494   0  27.42  14.500   2  14   8  3.085   1   1    1    0    2   \n",
       "689    15592412   1  41.00   0.040   2  10   4  0.040   0   1    1    0    1   \n",
       "\n",
       "     A13   A14  Class  \n",
       "0    100  1213      0  \n",
       "1    160     1      0  \n",
       "2    280     1      0  \n",
       "3      0     1      1  \n",
       "4     60   159      1  \n",
       "..   ...   ...    ...  \n",
       "685    0     1      1  \n",
       "686    0    45      0  \n",
       "687  100     1      1  \n",
       "688  120    12      1  \n",
       "689  560     1      1  \n",
       "\n",
       "[690 rows x 16 columns]"
      ]
     },
     "execution_count": 106,
     "metadata": {},
     "output_type": "execute_result"
    }
   ],
   "source": [
    "dataset"
   ]
  },
  {
   "cell_type": "code",
   "execution_count": 108,
   "id": "4ea3138e-b615-4ca9-a416-ea44fb145d68",
   "metadata": {},
   "outputs": [],
   "source": [
    "X = dataset.iloc[:, :-1].values\n",
    "y = dataset.iloc[:, -1].values"
   ]
  },
  {
   "cell_type": "markdown",
   "id": "cc238e6f-ef20-45e1-a5a8-b36f5debf981",
   "metadata": {},
   "source": [
    "* SOM ile denetimsiz öğrenme gerçekleştireceğimiz için etiket sütununu <b>`y`</b> değişkenine atadık"
   ]
  },
  {
   "cell_type": "code",
   "execution_count": 111,
   "id": "a61cccd9-8c55-4465-bab5-da80d91e61d5",
   "metadata": {},
   "outputs": [
    {
     "data": {
      "text/plain": [
       "array([[1.5776156e+07, 1.0000000e+00, 2.2080000e+01, ..., 2.0000000e+00,\n",
       "        1.0000000e+02, 1.2130000e+03],\n",
       "       [1.5739548e+07, 0.0000000e+00, 2.2670000e+01, ..., 2.0000000e+00,\n",
       "        1.6000000e+02, 1.0000000e+00],\n",
       "       [1.5662854e+07, 0.0000000e+00, 2.9580000e+01, ..., 2.0000000e+00,\n",
       "        2.8000000e+02, 1.0000000e+00],\n",
       "       ...,\n",
       "       [1.5675450e+07, 0.0000000e+00, 1.8830000e+01, ..., 2.0000000e+00,\n",
       "        1.0000000e+02, 1.0000000e+00],\n",
       "       [1.5776494e+07, 0.0000000e+00, 2.7420000e+01, ..., 2.0000000e+00,\n",
       "        1.2000000e+02, 1.2000000e+01],\n",
       "       [1.5592412e+07, 1.0000000e+00, 4.1000000e+01, ..., 1.0000000e+00,\n",
       "        5.6000000e+02, 1.0000000e+00]])"
      ]
     },
     "execution_count": 111,
     "metadata": {},
     "output_type": "execute_result"
    }
   ],
   "source": [
    "X"
   ]
  },
  {
   "cell_type": "code",
   "execution_count": 113,
   "id": "56467343-6ca8-4661-9214-2c7b29c1953b",
   "metadata": {},
   "outputs": [
    {
     "data": {
      "text/plain": [
       "array([0, 0, 0, 1, 1, 1, 0, 1, 0, 0, 1, 1, 0, 1, 0, 1, 1, 1, 0, 1, 0, 0,\n",
       "       0, 0, 0, 1, 0, 1, 1, 1, 1, 0, 0, 1, 0, 0, 1, 1, 1, 1, 1, 0, 1, 0,\n",
       "       0, 1, 0, 1, 0, 1, 0, 0, 0, 0, 0, 1, 1, 0, 1, 1, 0, 0, 1, 0, 1, 1,\n",
       "       0, 0, 0, 1, 0, 0, 0, 1, 1, 0, 0, 0, 0, 1, 1, 0, 0, 0, 0, 1, 0, 1,\n",
       "       1, 0, 0, 0, 0, 1, 0, 1, 0, 0, 0, 1, 0, 1, 1, 1, 0, 1, 1, 0, 1, 0,\n",
       "       0, 0, 0, 1, 0, 1, 1, 1, 1, 1, 1, 0, 0, 1, 1, 0, 1, 0, 1, 1, 1, 0,\n",
       "       0, 0, 0, 0, 0, 1, 1, 1, 0, 0, 0, 1, 0, 1, 1, 0, 0, 1, 1, 0, 0, 0,\n",
       "       1, 1, 1, 0, 1, 0, 0, 0, 1, 1, 0, 0, 0, 1, 0, 0, 0, 1, 0, 0, 1, 0,\n",
       "       0, 0, 1, 1, 0, 0, 1, 1, 1, 0, 0, 0, 0, 0, 0, 1, 0, 0, 0, 1, 1, 0,\n",
       "       0, 0, 1, 0, 1, 0, 1, 1, 0, 0, 0, 0, 1, 1, 0, 0, 0, 1, 0, 0, 0, 1,\n",
       "       1, 0, 1, 0, 0, 0, 0, 1, 1, 1, 1, 0, 0, 1, 1, 1, 0, 0, 0, 1, 1, 1,\n",
       "       1, 0, 0, 0, 0, 1, 1, 1, 0, 0, 1, 0, 1, 1, 1, 1, 0, 0, 0, 1, 0, 1,\n",
       "       1, 0, 0, 1, 0, 0, 0, 1, 0, 1, 1, 0, 0, 0, 1, 1, 0, 0, 0, 0, 0, 1,\n",
       "       1, 1, 0, 0, 0, 0, 1, 1, 1, 0, 0, 0, 1, 0, 1, 0, 0, 0, 0, 1, 0, 1,\n",
       "       0, 0, 0, 0, 0, 1, 1, 0, 0, 1, 0, 1, 1, 1, 1, 1, 1, 1, 0, 0, 0, 0,\n",
       "       1, 1, 1, 0, 0, 0, 1, 0, 1, 0, 0, 0, 1, 1, 1, 1, 1, 1, 1, 0, 1, 0,\n",
       "       1, 0, 0, 0, 0, 0, 1, 0, 1, 1, 0, 0, 0, 0, 0, 1, 0, 1, 1, 0, 0, 0,\n",
       "       1, 1, 1, 0, 0, 1, 1, 0, 0, 0, 1, 1, 0, 1, 1, 1, 1, 0, 0, 1, 1, 0,\n",
       "       0, 0, 0, 0, 0, 1, 0, 0, 0, 1, 1, 0, 1, 0, 0, 0, 1, 1, 1, 0, 0, 1,\n",
       "       0, 1, 1, 1, 0, 1, 0, 0, 1, 0, 0, 0, 1, 0, 0, 1, 0, 1, 0, 1, 1, 0,\n",
       "       1, 0, 0, 1, 0, 1, 1, 0, 0, 0, 0, 0, 1, 1, 0, 0, 1, 1, 0, 1, 0, 1,\n",
       "       0, 1, 0, 1, 1, 0, 1, 0, 1, 1, 1, 0, 0, 0, 0, 0, 1, 0, 1, 0, 0, 0,\n",
       "       1, 1, 1, 1, 1, 0, 1, 1, 0, 0, 0, 1, 1, 1, 1, 1, 1, 0, 1, 1, 1, 1,\n",
       "       0, 0, 0, 0, 0, 0, 0, 1, 0, 0, 1, 1, 1, 0, 1, 0, 0, 1, 1, 0, 1, 0,\n",
       "       0, 0, 0, 0, 0, 1, 0, 1, 0, 1, 1, 1, 0, 0, 1, 0, 0, 0, 0, 0, 0, 0,\n",
       "       1, 1, 0, 0, 0, 0, 0, 1, 0, 1, 0, 1, 0, 0, 1, 1, 1, 0, 0, 0, 0, 0,\n",
       "       1, 0, 1, 1, 0, 0, 0, 0, 0, 1, 1, 1, 0, 1, 0, 1, 1, 0, 0, 1, 0, 1,\n",
       "       0, 0, 1, 1, 0, 1, 0, 1, 1, 1, 1, 0, 0, 1, 0, 1, 1, 0, 1, 0, 1, 1,\n",
       "       0, 0, 0, 1, 0, 1, 1, 0, 1, 0, 0, 0, 0, 0, 1, 0, 1, 0, 0, 0, 0, 0,\n",
       "       0, 1, 0, 1, 1, 0, 0, 0, 0, 0, 0, 1, 1, 0, 0, 1, 0, 0, 1, 0, 0, 1,\n",
       "       1, 0, 1, 1, 0, 0, 0, 0, 0, 0, 1, 1, 0, 1, 1, 0, 0, 0, 0, 1, 0, 0,\n",
       "       1, 0, 1, 1, 0, 1, 1, 1], dtype=int64)"
      ]
     },
     "execution_count": 113,
     "metadata": {},
     "output_type": "execute_result"
    }
   ],
   "source": [
    "y"
   ]
  },
  {
   "cell_type": "markdown",
   "id": "f708339f-808b-47cb-a573-4720898803e3",
   "metadata": {},
   "source": [
    "### Özellik Ölçeklendirme"
   ]
  },
  {
   "cell_type": "code",
   "execution_count": 116,
   "id": "fccb1e96-9a28-4478-923c-8a5597f75cae",
   "metadata": {},
   "outputs": [],
   "source": [
    "from sklearn.preprocessing import MinMaxScaler\n",
    "sc = MinMaxScaler(feature_range=(0,1))\n",
    "X = sc.fit_transform(X)"
   ]
  },
  {
   "cell_type": "markdown",
   "id": "914df00a-1171-4ba5-882f-d6f1132e4b5a",
   "metadata": {},
   "source": [
    "* <b>`MinMaxScaler`</b> kullanarak verileri 0 ile 1 arasında ölçeklendirdik.\n",
    "* Tüm bu özelliklerin aynı ölçekle çalışmasını sağlamak için <b>`fit_transform`</b> metodunu kullandık."
   ]
  },
  {
   "cell_type": "markdown",
   "id": "c9528f55-b1d5-47de-a67e-7fc406c1666f",
   "metadata": {},
   "source": [
    "### SOM(Self-Organizing Maps)'un Eğitilmesi"
   ]
  },
  {
   "cell_type": "code",
   "execution_count": 120,
   "id": "d3dbca76-de45-4a26-8de3-187a663468d1",
   "metadata": {},
   "outputs": [],
   "source": [
    "from minisom import MiniSom\n",
    "som = MiniSom(x=10, y=10, input_len=15, sigma=1.0, learning_rate=0.5)"
   ]
  },
  {
   "cell_type": "markdown",
   "id": "d3965e87-d549-4e47-8391-8157d1ee8ba8",
   "metadata": {},
   "source": [
    "* <b>`x=10`</b> oluşturulacak olan haritanın yatay boyutunu belirtir.\n",
    "* <b>`y=10`</b> oluşturulacak olan haritanın dikey boyutunu belirtir.\n",
    "* <b>`input_len=15`</b> girdi vektörünün uzunluğunu(özellik sayısı) belirtir.\n",
    "* <b>`sigma=1.0`</b> komşuluk fonksiyonunun genişliğini kontrol eder.\n",
    "* <b>`learning_rate=0.5`</b> öğrenme oranını belirtmektedir."
   ]
  },
  {
   "cell_type": "code",
   "execution_count": 123,
   "id": "ce8e157d-f758-432a-81d5-557f2576d2bc",
   "metadata": {},
   "outputs": [],
   "source": [
    "som.random_weights_init(X)"
   ]
  },
  {
   "cell_type": "markdown",
   "id": "d6263a1a-63f9-4c67-a59d-12e2bb0038fb",
   "metadata": {},
   "source": [
    "* SOM için ağırlık vektörlerini rastgele başlatıyoruz."
   ]
  },
  {
   "cell_type": "code",
   "execution_count": 126,
   "id": "0dbee8e9-3c95-4e36-b683-822f3b97fb3d",
   "metadata": {},
   "outputs": [],
   "source": [
    "som.train_random(data=X, num_iteration=100)"
   ]
  },
  {
   "cell_type": "markdown",
   "id": "d7f6d4ed-eb1e-4336-a23e-d78e8dc570bb",
   "metadata": {},
   "source": [
    "* SOM'u <b>`X`</b> verisi ile <b>`100`</b> iterasyon boyunca eğitiyoruz."
   ]
  },
  {
   "cell_type": "markdown",
   "id": "f2f645b1-4559-467c-8286-9d119bd0367c",
   "metadata": {},
   "source": [
    "### Sonuçların Görselleştirilmesi"
   ]
  },
  {
   "cell_type": "code",
   "execution_count": 130,
   "id": "5c13e077-633d-4225-a8ab-dac1fff33c40",
   "metadata": {},
   "outputs": [
    {
     "data": {
      "image/png": "[encoded data removed]",
      "text/plain": [
       "<Figure size 640x480 with 2 Axes>"
      ]
     },
     "metadata": {},
     "output_type": "display_data"
    }
   ],
   "source": [
    "from pylab import bone, pcolor, colorbar, plot, show\n",
    "bone()\n",
    "pcolor(som.distance_map().T)\n",
    "colorbar()\n",
    "markers = ['o', 's']\n",
    "colors = ['r', 'g']\n",
    "for i, x in enumerate(X):\n",
    "    w = som.winner(x)\n",
    "    plot(w[0] + 0.5,\n",
    "         w[1] + 0.5,\n",
    "         markers[y[i]],\n",
    "         markeredgecolor = colors[y[i]],\n",
    "         markerfacecolor = 'None',\n",
    "         markersize = '10',\n",
    "         markeredgewidth = 2)\n",
    "show()"
   ]
  },
  {
   "cell_type": "markdown",
   "id": "deebd381-7446-4147-abfe-a7da2c967e19",
   "metadata": {},
   "source": [
    "* <b>`bone()`</b> Şekil için beyaz bir arka plan oluşturur.\n",
    "* <b>`pcolor(som.distance_map().T)`</b> Haritadaki hücreler arasındaki mesafeyi görselleştirir.\n",
    "* <b>`colorbar()`</b> Mesafe haritası için bir renk çubuğu ekler.\n",
    "* <b>`markers = ['o', 's']`</b> Farklı sınıflar için işaretçi tiplerini belirler.\n",
    "* <b>`colors = ['r', 'g']`</b> Farklı sınıflar için renkleri belirler.\n",
    "* <b>`for i, x in enumerate(X)`</b> Tüm girdi verilerini döngüye sokar.\n",
    "* <b>`w = som.winner(x)`</b> Girdi vektörü x için kazanan düğümü belirler.\n",
    "* <b>`plot(w[0] + 0.5, w[1] + 0.5,`<br>\n",
    "     `markers[y[i]],`<br>\n",
    "     `markeredgecolor = colors[y[i]],` <br>\n",
    "     `markerfacecolor = 'None',` <br>\n",
    "     `markersize = '10',` <br>\n",
    "     `markeredgewidth = 2)`</b> Kazanan düğümün etrafına bir işaretçi çizer."
   ]
  },
  {
   "cell_type": "code",
   "execution_count": 133,
   "id": "071f9c44-75f6-44e3-9027-da516539c62d",
   "metadata": {},
   "outputs": [],
   "source": [
    "mappings = som.win_map(X)"
   ]
  },
  {
   "cell_type": "markdown",
   "id": "b0842836-ac3b-4d9a-b533-5f80187635e5",
   "metadata": {},
   "source": [
    "* Her hücre için kazanan düğümlerin haritalandırılması"
   ]
  },
  {
   "cell_type": "code",
   "execution_count": 136,
   "id": "f9ead3e2-97e5-4198-b5a5-5efc6b242b8d",
   "metadata": {},
   "outputs": [],
   "source": [
    "frauds = np.concatenate((mappings[(8,1)], mappings[(6,8)]), axis=0)\n",
    "frauds = sc.inverse_transform(frauds)"
   ]
  },
  {
   "cell_type": "markdown",
   "id": "f8624f84-0f0d-4df4-bb2e-77b2c9b06d55",
   "metadata": {},
   "source": [
    "* <b>`frauds = np.concatenate()`</b> belirli hücrelerdeki verileri birleştirir.\n",
    "  * Bu hücrelerdeki verilerin potansiyel dolandırıcılık vakaları olduğunu varsayar.\n",
    "\n",
    "<br>\n",
    "\n",
    "* <b>`frauds = sc.inverse_transform()`</b> dolandırıcılık vakalarını orijinal ölçeğe geri dönüştürür."
   ]
  },
  {
   "cell_type": "code",
   "execution_count": 150,
   "id": "f330c60d-41c4-4bfa-a8c6-6940392edb06",
   "metadata": {},
   "outputs": [
    {
     "data": {
      "text/plain": [
       "array([[1.5687688e+07, 0.0000000e+00, 2.1670000e+01, 1.1500000e+01,\n",
       "        1.0000000e+00, 5.0000000e+00, 3.0000000e+00, 0.0000000e+00,\n",
       "        1.0000000e+00, 1.0000000e+00, 1.1000000e+01, 1.0000000e+00,\n",
       "        2.0000000e+00, 0.0000000e+00, 1.0000000e+00],\n",
       "       [1.5789611e+07, 0.0000000e+00, 4.7750000e+01, 8.0000000e+00,\n",
       "        2.0000000e+00, 8.0000000e+00, 4.0000000e+00, 7.8750000e+00,\n",
       "        1.0000000e+00, 1.0000000e+00, 6.0000000e+00, 1.0000000e+00,\n",
       "        2.0000000e+00, 0.0000000e+00, 1.2610000e+03],\n",
       "       [1.5668679e+07, 0.0000000e+00, 4.7420000e+01, 3.0000000e+00,\n",
       "        2.0000000e+00, 1.4000000e+01, 4.0000000e+00, 1.3875000e+01,\n",
       "        1.0000000e+00, 1.0000000e+00, 2.0000000e+00, 1.0000000e+00,\n",
       "        2.0000000e+00, 5.1900000e+02, 1.7050000e+03],\n",
       "       [1.5738487e+07, 0.0000000e+00, 2.0750000e+01, 1.0250000e+01,\n",
       "        2.0000000e+00, 1.1000000e+01, 4.0000000e+00, 7.1000000e-01,\n",
       "        1.0000000e+00, 1.0000000e+00, 2.0000000e+00, 1.0000000e+00,\n",
       "        2.0000000e+00, 4.9000000e+01, 1.0000000e+00],\n",
       "       [1.5773421e+07, 0.0000000e+00, 2.0750000e+01, 1.0335000e+01,\n",
       "        2.0000000e+00, 1.3000000e+01, 8.0000000e+00, 3.3500000e-01,\n",
       "        1.0000000e+00, 1.0000000e+00, 1.0000000e+00, 1.0000000e+00,\n",
       "        2.0000000e+00, 8.0000000e+01, 5.1000000e+01],\n",
       "       [1.5682686e+07, 0.0000000e+00, 3.1250000e+01, 3.7500000e+00,\n",
       "        2.0000000e+00, 1.3000000e+01, 8.0000000e+00, 6.2500000e-01,\n",
       "        1.0000000e+00, 1.0000000e+00, 9.0000000e+00, 1.0000000e+00,\n",
       "        2.0000000e+00, 1.8100000e+02, 1.0000000e+00],\n",
       "       [1.5781875e+07, 0.0000000e+00, 2.4750000e+01, 1.2500000e+01,\n",
       "        2.0000000e+00, 6.0000000e+00, 4.0000000e+00, 1.5000000e+00,\n",
       "        1.0000000e+00, 1.0000000e+00, 1.2000000e+01, 1.0000000e+00,\n",
       "        2.0000000e+00, 1.2000000e+02, 5.6800000e+02],\n",
       "       [1.5809837e+07, 0.0000000e+00, 4.6080000e+01, 3.0000000e+00,\n",
       "        2.0000000e+00, 8.0000000e+00, 4.0000000e+00, 2.3750000e+00,\n",
       "        1.0000000e+00, 1.0000000e+00, 8.0000000e+00, 1.0000000e+00,\n",
       "        2.0000000e+00, 3.9600000e+02, 4.1600000e+03],\n",
       "       [1.5621244e+07, 0.0000000e+00, 1.8920000e+01, 9.2500000e+00,\n",
       "        1.0000000e+00, 8.0000000e+00, 4.0000000e+00, 1.0000000e+00,\n",
       "        1.0000000e+00, 1.0000000e+00, 4.0000000e+00, 1.0000000e+00,\n",
       "        2.0000000e+00, 8.0000000e+01, 5.0100000e+02],\n",
       "       [1.5636521e+07, 0.0000000e+00, 2.3500000e+01, 9.0000000e+00,\n",
       "        2.0000000e+00, 1.1000000e+01, 4.0000000e+00, 8.5000000e+00,\n",
       "        1.0000000e+00, 1.0000000e+00, 5.0000000e+00, 1.0000000e+00,\n",
       "        2.0000000e+00, 1.2000000e+02, 1.0000000e+00],\n",
       "       [1.5761554e+07, 0.0000000e+00, 3.0500000e+01, 6.5000000e+00,\n",
       "        2.0000000e+00, 8.0000000e+00, 5.0000000e+00, 4.0000000e+00,\n",
       "        1.0000000e+00, 1.0000000e+00, 7.0000000e+00, 1.0000000e+00,\n",
       "        2.0000000e+00, 0.0000000e+00, 3.0660000e+03],\n",
       "       [1.5707602e+07, 0.0000000e+00, 2.2830000e+01, 2.2900000e+00,\n",
       "        2.0000000e+00, 1.1000000e+01, 8.0000000e+00, 2.2900000e+00,\n",
       "        1.0000000e+00, 1.0000000e+00, 7.0000000e+00, 1.0000000e+00,\n",
       "        2.0000000e+00, 1.4000000e+02, 2.3850000e+03],\n",
       "       [1.5811690e+07, 0.0000000e+00, 5.0080000e+01, 1.2540000e+01,\n",
       "        2.0000000e+00, 6.0000000e+00, 4.0000000e+00, 2.2900000e+00,\n",
       "        1.0000000e+00, 1.0000000e+00, 3.0000000e+00, 1.0000000e+00,\n",
       "        2.0000000e+00, 1.5600000e+02, 1.0000000e+00],\n",
       "       [1.5815095e+07, 0.0000000e+00, 2.2580000e+01, 1.0750000e+01,\n",
       "        2.0000000e+00, 1.1000000e+01, 4.0000000e+00, 4.1500000e-01,\n",
       "        1.0000000e+00, 1.0000000e+00, 5.0000000e+00, 1.0000000e+00,\n",
       "        2.0000000e+00, 0.0000000e+00, 5.6100000e+02],\n",
       "       [1.5720725e+07, 0.0000000e+00, 2.3420000e+01, 7.9000000e-01,\n",
       "        1.0000000e+00, 1.1000000e+01, 4.0000000e+00, 1.5000000e+00,\n",
       "        1.0000000e+00, 1.0000000e+00, 2.0000000e+00, 1.0000000e+00,\n",
       "        2.0000000e+00, 8.0000000e+01, 4.0100000e+02],\n",
       "       [1.5567834e+07, 0.0000000e+00, 3.0000000e+01, 5.2900000e+00,\n",
       "        2.0000000e+00, 1.0000000e+01, 2.0000000e+00, 2.2500000e+00,\n",
       "        1.0000000e+00, 1.0000000e+00, 5.0000000e+00, 1.0000000e+00,\n",
       "        2.0000000e+00, 9.9000000e+01, 5.0100000e+02],\n",
       "       [1.5591035e+07, 0.0000000e+00, 1.8830000e+01, 9.5000000e+00,\n",
       "        2.0000000e+00, 9.0000000e+00, 4.0000000e+00, 1.6250000e+00,\n",
       "        1.0000000e+00, 1.0000000e+00, 6.0000000e+00, 1.0000000e+00,\n",
       "        2.0000000e+00, 4.0000000e+01, 6.0100000e+02],\n",
       "       [1.5672912e+07, 0.0000000e+00, 4.1170000e+01, 6.5000000e+00,\n",
       "        2.0000000e+00, 1.1000000e+01, 4.0000000e+00, 5.0000000e-01,\n",
       "        1.0000000e+00, 1.0000000e+00, 3.0000000e+00, 1.0000000e+00,\n",
       "        2.0000000e+00, 1.4500000e+02, 1.0000000e+00],\n",
       "       [1.5694677e+07, 0.0000000e+00, 2.8750000e+01, 3.7500000e+00,\n",
       "        2.0000000e+00, 8.0000000e+00, 4.0000000e+00, 1.0850000e+00,\n",
       "        1.0000000e+00, 1.0000000e+00, 1.0000000e+00, 1.0000000e+00,\n",
       "        2.0000000e+00, 3.7100000e+02, 1.0000000e+00],\n",
       "       [1.5598614e+07, 0.0000000e+00, 2.3000000e+01, 1.1750000e+01,\n",
       "        2.0000000e+00, 1.4000000e+01, 8.0000000e+00, 5.0000000e-01,\n",
       "        1.0000000e+00, 1.0000000e+00, 2.0000000e+00, 1.0000000e+00,\n",
       "        2.0000000e+00, 3.0000000e+02, 5.5200000e+02],\n",
       "       [1.5608804e+07, 0.0000000e+00, 2.8670000e+01, 1.0400000e+00,\n",
       "        2.0000000e+00, 8.0000000e+00, 4.0000000e+00, 2.5000000e+00,\n",
       "        1.0000000e+00, 1.0000000e+00, 5.0000000e+00, 1.0000000e+00,\n",
       "        2.0000000e+00, 3.0000000e+02, 1.4310000e+03],\n",
       "       [1.5631267e+07, 0.0000000e+00, 4.5830000e+01, 1.0500000e+01,\n",
       "        2.0000000e+00, 1.1000000e+01, 4.0000000e+00, 5.0000000e+00,\n",
       "        1.0000000e+00, 1.0000000e+00, 7.0000000e+00, 1.0000000e+00,\n",
       "        2.0000000e+00, 0.0000000e+00, 1.0000000e+00],\n",
       "       [1.5611189e+07, 0.0000000e+00, 2.8500000e+01, 1.0000000e+00,\n",
       "        2.0000000e+00, 1.1000000e+01, 4.0000000e+00, 1.0000000e+00,\n",
       "        1.0000000e+00, 1.0000000e+00, 2.0000000e+00, 1.0000000e+00,\n",
       "        2.0000000e+00, 1.6700000e+02, 5.0100000e+02],\n",
       "       [1.5759387e+07, 0.0000000e+00, 4.4170000e+01, 6.6650000e+00,\n",
       "        2.0000000e+00, 1.1000000e+01, 4.0000000e+00, 7.3750000e+00,\n",
       "        1.0000000e+00, 1.0000000e+00, 3.0000000e+00, 1.0000000e+00,\n",
       "        2.0000000e+00, 0.0000000e+00, 1.0000000e+00],\n",
       "       [1.5712483e+07, 0.0000000e+00, 4.6670000e+01, 4.6000000e-01,\n",
       "        2.0000000e+00, 1.3000000e+01, 8.0000000e+00, 4.1500000e-01,\n",
       "        1.0000000e+00, 1.0000000e+00, 1.1000000e+01, 1.0000000e+00,\n",
       "        2.0000000e+00, 4.4000000e+02, 7.0000000e+00],\n",
       "       [1.5572361e+07, 0.0000000e+00, 4.1000000e+01, 2.0400000e+00,\n",
       "        1.0000000e+00, 1.1000000e+01, 8.0000000e+00, 1.2500000e-01,\n",
       "        1.0000000e+00, 1.0000000e+00, 2.3000000e+01, 1.0000000e+00,\n",
       "        2.0000000e+00, 4.5500000e+02, 1.2370000e+03],\n",
       "       [1.5698522e+07, 0.0000000e+00, 1.9750000e+01, 7.5000000e-01,\n",
       "        2.0000000e+00, 8.0000000e+00, 4.0000000e+00, 7.9500000e-01,\n",
       "        1.0000000e+00, 1.0000000e+00, 5.0000000e+00, 1.0000000e+00,\n",
       "        2.0000000e+00, 1.4000000e+02, 6.0000000e+00],\n",
       "       [1.5712877e+07, 1.0000000e+00, 3.4830000e+01, 4.0000000e+00,\n",
       "        2.0000000e+00, 2.0000000e+00, 5.0000000e+00, 1.2500000e+01,\n",
       "        1.0000000e+00, 0.0000000e+00, 0.0000000e+00, 1.0000000e+00,\n",
       "        2.0000000e+00, 1.8400000e+02, 1.0000000e+00]])"
      ]
     },
     "execution_count": 150,
     "metadata": {},
     "output_type": "execute_result"
    }
   ],
   "source": [
    "frauds"
   ]
  },
  {
   "cell_type": "code",
   "execution_count": null,
   "id": "3eedc919-c0ca-4672-8ea8-1aed7f44eb82",
   "metadata": {},
   "outputs": [],
   "source": []
  }
 ],
 "metadata": {
  "kernelspec": {
   "display_name": "Python 3 (ipykernel)",
   "language": "python",
   "name": "python3"
  },
  "language_info": {
   "codemirror_mode": {
    "name": "ipython",
    "version": 3
   },
   "file_extension": ".py",
   "mimetype": "text/x-python",
   "name": "python",
   "nbconvert_exporter": "python",
   "pygments_lexer": "ipython3",
   "version": "3.12.3"
  }
 },
 "nbformat": 4,
 "nbformat_minor": 5
}
